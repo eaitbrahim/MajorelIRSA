{
 "cells": [
  {
   "cell_type": "code",
   "execution_count": 2,
   "metadata": {},
   "outputs": [
    {
     "name": "stdout",
     "output_type": "stream",
     "text": [
      "Number of pages read is 150\n",
      "Done writing PDF to TXT.\n"
     ]
    }
   ],
   "source": [
    "import PyPDF2\n",
    "with open('IRSA.txt', 'a+') as txt_file:\n",
    "    with open('IRSA2015.pdf', 'rb') as pdf_file:\n",
    "        pdf_reader = PyPDF2.PdfFileReader(pdf_file)\n",
    "        print(f'Number of pages read is {pdf_reader.numPages}')\n",
    "        for p in range(pdf_reader.numPages):\n",
    "            page = pdf_reader.getPage(p)\n",
    "            txt_file.write(page.extractText())\n",
    "print('Done writing PDF to TXT.')\n",
    "        "
   ]
  },
  {
   "cell_type": "code",
   "execution_count": 1,
   "metadata": {},
   "outputs": [
    {
     "data": {
      "text/plain": [
       "'/Users/elmehdiaitbrahim/Downloads/UPDATED_NLP_COURSE/Majorel-IRSA'"
      ]
     },
     "execution_count": 1,
     "metadata": {},
     "output_type": "execute_result"
    }
   ],
   "source": [
    "pwd"
   ]
  },
  {
   "cell_type": "code",
   "execution_count": null,
   "metadata": {},
   "outputs": [],
   "source": []
  }
 ],
 "metadata": {
  "kernelspec": {
   "display_name": "Python 3",
   "language": "python",
   "name": "python3"
  },
  "language_info": {
   "codemirror_mode": {
    "name": "ipython",
    "version": 3
   },
   "file_extension": ".py",
   "mimetype": "text/x-python",
   "name": "python",
   "nbconvert_exporter": "python",
   "pygments_lexer": "ipython3",
   "version": "3.7.4"
  }
 },
 "nbformat": 4,
 "nbformat_minor": 2
}
