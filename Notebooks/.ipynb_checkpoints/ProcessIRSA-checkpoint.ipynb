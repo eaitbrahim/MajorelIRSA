{
 "cells": [
  {
   "cell_type": "code",
   "execution_count": 5,
   "metadata": {
    "collapsed": true
   },
   "outputs": [
    {
     "name": "stdout",
     "output_type": "stream",
     "text": [
      "Uninstalling google-cloud-datastore-1.9.0:\r\n",
      "  Successfully uninstalled google-cloud-datastore-1.9.0\r\n"
     ]
    }
   ],
   "source": [
    "!pip uninstall -y google-cloud-datastore"
   ]
  },
  {
   "cell_type": "code",
   "execution_count": 2,
   "metadata": {
    "collapsed": true
   },
   "outputs": [
    {
     "name": "stdout",
     "output_type": "stream",
     "text": [
      "Collecting google-cloud-datastore\n",
      "\u001b[?25l  Downloading https://files.pythonhosted.org/packages/c6/28/3bb5f34a211aef93136574263bd2b83488ed92ada7f89e746e008f6ff936/google_cloud_datastore-1.9.0-py2.py3-none-any.whl (97kB)\n",
      "\u001b[K    100% |████████████████████████████████| 102kB 771kB/s a 0:00:01\n",
      "\u001b[?25hCollecting google-cloud-core<2.0dev,>=1.0.0 (from google-cloud-datastore)\n",
      "  Downloading https://files.pythonhosted.org/packages/ee/f0/084f598629db8e6ec3627688723875cdb03637acb6d86999bb105a71df64/google_cloud_core-1.0.3-py2.py3-none-any.whl\n",
      "Collecting google-api-core[grpc]<2.0.0dev,>=1.14.0 (from google-cloud-datastore)\n",
      "\u001b[?25l  Downloading https://files.pythonhosted.org/packages/71/e5/7059475b3013a3c75abe35015c5761735ab224eb1b129fee7c8e376e7805/google_api_core-1.14.2-py2.py3-none-any.whl (68kB)\n",
      "\u001b[K    100% |████████████████████████████████| 71kB 1.5MB/s ta 0:00:011\n",
      "\u001b[?25hRequirement already satisfied: setuptools>=34.0.0 in /anaconda3/envs/nlp_course/lib/python3.7/site-packages (from google-api-core[grpc]<2.0.0dev,>=1.14.0->google-cloud-datastore) (41.0.1)\n",
      "Requirement already satisfied: pytz in /anaconda3/envs/nlp_course/lib/python3.7/site-packages (from google-api-core[grpc]<2.0.0dev,>=1.14.0->google-cloud-datastore) (2019.1)\n",
      "Requirement already satisfied: protobuf>=3.4.0 in /anaconda3/envs/nlp_course/lib/python3.7/site-packages (from google-api-core[grpc]<2.0.0dev,>=1.14.0->google-cloud-datastore) (3.8.0)\n",
      "Collecting google-auth<2.0dev,>=0.4.0 (from google-api-core[grpc]<2.0.0dev,>=1.14.0->google-cloud-datastore)\n",
      "\u001b[?25l  Downloading https://files.pythonhosted.org/packages/c5/9b/ed0516cc1f7609fb0217e3057ff4f0f9f3e3ce79a369c6af4a6c5ca25664/google_auth-1.6.3-py2.py3-none-any.whl (73kB)\n",
      "\u001b[K    100% |████████████████████████████████| 81kB 1.4MB/s ta 0:00:011\n",
      "\u001b[?25hRequirement already satisfied: six>=1.10.0 in /anaconda3/envs/nlp_course/lib/python3.7/site-packages (from google-api-core[grpc]<2.0.0dev,>=1.14.0->google-cloud-datastore) (1.12.0)\n",
      "Collecting googleapis-common-protos<2.0dev,>=1.6.0 (from google-api-core[grpc]<2.0.0dev,>=1.14.0->google-cloud-datastore)\n",
      "  Downloading https://files.pythonhosted.org/packages/eb/ee/e59e74ecac678a14d6abefb9054f0bbcb318a6452a30df3776f133886d7d/googleapis-common-protos-1.6.0.tar.gz\n",
      "Requirement already satisfied: requests<3.0.0dev,>=2.18.0 in /anaconda3/envs/nlp_course/lib/python3.7/site-packages (from google-api-core[grpc]<2.0.0dev,>=1.14.0->google-cloud-datastore) (2.22.0)\n",
      "Requirement already satisfied: grpcio<2.0dev,>=1.8.2; extra == \"grpc\" in /anaconda3/envs/nlp_course/lib/python3.7/site-packages (from google-api-core[grpc]<2.0.0dev,>=1.14.0->google-cloud-datastore) (1.16.1)\n",
      "Collecting cachetools>=2.0.0 (from google-auth<2.0dev,>=0.4.0->google-api-core[grpc]<2.0.0dev,>=1.14.0->google-cloud-datastore)\n",
      "  Downloading https://files.pythonhosted.org/packages/2f/a6/30b0a0bef12283e83e58c1d6e7b5aabc7acfc4110df81a4471655d33e704/cachetools-3.1.1-py2.py3-none-any.whl\n",
      "Collecting pyasn1-modules>=0.2.1 (from google-auth<2.0dev,>=0.4.0->google-api-core[grpc]<2.0.0dev,>=1.14.0->google-cloud-datastore)\n",
      "\u001b[?25l  Downloading https://files.pythonhosted.org/packages/be/70/e5ea8afd6d08a4b99ebfc77bd1845248d56cfcf43d11f9dc324b9580a35c/pyasn1_modules-0.2.6-py2.py3-none-any.whl (95kB)\n",
      "\u001b[K    100% |████████████████████████████████| 102kB 1.6MB/s a 0:00:011\n",
      "\u001b[?25hCollecting rsa>=3.1.4 (from google-auth<2.0dev,>=0.4.0->google-api-core[grpc]<2.0.0dev,>=1.14.0->google-cloud-datastore)\n",
      "  Downloading https://files.pythonhosted.org/packages/02/e5/38518af393f7c214357079ce67a317307936896e961e35450b70fad2a9cf/rsa-4.0-py2.py3-none-any.whl\n",
      "Requirement already satisfied: certifi>=2017.4.17 in /anaconda3/envs/nlp_course/lib/python3.7/site-packages (from requests<3.0.0dev,>=2.18.0->google-api-core[grpc]<2.0.0dev,>=1.14.0->google-cloud-datastore) (2019.6.16)\n",
      "Requirement already satisfied: idna<2.9,>=2.5 in /anaconda3/envs/nlp_course/lib/python3.7/site-packages (from requests<3.0.0dev,>=2.18.0->google-api-core[grpc]<2.0.0dev,>=1.14.0->google-cloud-datastore) (2.8)\n",
      "Requirement already satisfied: chardet<3.1.0,>=3.0.2 in /anaconda3/envs/nlp_course/lib/python3.7/site-packages (from requests<3.0.0dev,>=2.18.0->google-api-core[grpc]<2.0.0dev,>=1.14.0->google-cloud-datastore) (3.0.4)\n",
      "Requirement already satisfied: urllib3!=1.25.0,!=1.25.1,<1.26,>=1.21.1 in /anaconda3/envs/nlp_course/lib/python3.7/site-packages (from requests<3.0.0dev,>=2.18.0->google-api-core[grpc]<2.0.0dev,>=1.14.0->google-cloud-datastore) (1.24.2)\n",
      "Collecting pyasn1<0.5.0,>=0.4.6 (from pyasn1-modules>=0.2.1->google-auth<2.0dev,>=0.4.0->google-api-core[grpc]<2.0.0dev,>=1.14.0->google-cloud-datastore)\n",
      "\u001b[?25l  Downloading https://files.pythonhosted.org/packages/6a/6e/209351ec34b7d7807342e2bb6ff8a96eef1fd5dcac13bdbadf065c2bb55c/pyasn1-0.4.6-py2.py3-none-any.whl (75kB)\n",
      "\u001b[K    100% |████████████████████████████████| 81kB 674kB/s ta 0:00:01\n",
      "\u001b[?25hBuilding wheels for collected packages: googleapis-common-protos\n",
      "  Running setup.py bdist_wheel for googleapis-common-protos ... \u001b[?25ldone\n",
      "\u001b[?25h  Stored in directory: /Users/elmehdiaitbrahim/Library/Caches/pip/wheels/9e/3d/a2/1bec8bb7db80ab3216dbc33092bb7ccd0debfb8ba42b5668d5\n",
      "Successfully built googleapis-common-protos\n",
      "Installing collected packages: cachetools, pyasn1, pyasn1-modules, rsa, google-auth, googleapis-common-protos, google-api-core, google-cloud-core, google-cloud-datastore\n",
      "Successfully installed cachetools-3.1.1 google-api-core-1.14.2 google-auth-1.6.3 google-cloud-core-1.0.3 google-cloud-datastore-1.9.0 googleapis-common-protos-1.6.0 pyasn1-0.4.6 pyasn1-modules-0.2.6 rsa-4.0\n"
     ]
    }
   ],
   "source": [
    "!pip install google-cloud-datastore"
   ]
  },
  {
   "cell_type": "code",
   "execution_count": 3,
   "metadata": {},
   "outputs": [],
   "source": [
    "from google.cloud import datastore"
   ]
  },
  {
   "cell_type": "code",
   "execution_count": 4,
   "metadata": {
    "collapsed": true
   },
   "outputs": [
    {
     "ename": "DefaultCredentialsError",
     "evalue": "Could not automatically determine credentials. Please set GOOGLE_APPLICATION_CREDENTIALS or explicitly create credentials and re-run the application. For more information, please see https://cloud.google.com/docs/authentication/getting-started",
     "output_type": "error",
     "traceback": [
      "\u001b[0;31m---------------------------------------------------------------------------\u001b[0m",
      "\u001b[0;31mDefaultCredentialsError\u001b[0m                   Traceback (most recent call last)",
      "\u001b[0;32m<ipython-input-4-bb224df32e5a>\u001b[0m in \u001b[0;36m<module>\u001b[0;34m\u001b[0m\n\u001b[0;32m----> 1\u001b[0;31m \u001b[0mdatastore_client\u001b[0m \u001b[0;34m=\u001b[0m \u001b[0mdatastore\u001b[0m\u001b[0;34m.\u001b[0m\u001b[0mClient\u001b[0m\u001b[0;34m(\u001b[0m\u001b[0;34m)\u001b[0m\u001b[0;34m\u001b[0m\u001b[0;34m\u001b[0m\u001b[0m\n\u001b[0m",
      "\u001b[0;32m/anaconda3/envs/nlp_course/lib/python3.7/site-packages/google/cloud/datastore/client.py\u001b[0m in \u001b[0;36m__init__\u001b[0;34m(self, project, namespace, credentials, client_info, _http, _use_grpc)\u001b[0m\n\u001b[1;32m    233\u001b[0m     ):\n\u001b[1;32m    234\u001b[0m         super(Client, self).__init__(\n\u001b[0;32m--> 235\u001b[0;31m             \u001b[0mproject\u001b[0m\u001b[0;34m=\u001b[0m\u001b[0mproject\u001b[0m\u001b[0;34m,\u001b[0m \u001b[0mcredentials\u001b[0m\u001b[0;34m=\u001b[0m\u001b[0mcredentials\u001b[0m\u001b[0;34m,\u001b[0m \u001b[0m_http\u001b[0m\u001b[0;34m=\u001b[0m\u001b[0m_http\u001b[0m\u001b[0;34m\u001b[0m\u001b[0;34m\u001b[0m\u001b[0m\n\u001b[0m\u001b[1;32m    236\u001b[0m         )\n\u001b[1;32m    237\u001b[0m         \u001b[0mself\u001b[0m\u001b[0;34m.\u001b[0m\u001b[0mnamespace\u001b[0m \u001b[0;34m=\u001b[0m \u001b[0mnamespace\u001b[0m\u001b[0;34m\u001b[0m\u001b[0;34m\u001b[0m\u001b[0m\n",
      "\u001b[0;32m/anaconda3/envs/nlp_course/lib/python3.7/site-packages/google/cloud/client.py\u001b[0m in \u001b[0;36m__init__\u001b[0;34m(self, project, credentials, _http)\u001b[0m\n\u001b[1;32m    224\u001b[0m \u001b[0;34m\u001b[0m\u001b[0m\n\u001b[1;32m    225\u001b[0m     \u001b[0;32mdef\u001b[0m \u001b[0m__init__\u001b[0m\u001b[0;34m(\u001b[0m\u001b[0mself\u001b[0m\u001b[0;34m,\u001b[0m \u001b[0mproject\u001b[0m\u001b[0;34m=\u001b[0m\u001b[0;32mNone\u001b[0m\u001b[0;34m,\u001b[0m \u001b[0mcredentials\u001b[0m\u001b[0;34m=\u001b[0m\u001b[0;32mNone\u001b[0m\u001b[0;34m,\u001b[0m \u001b[0m_http\u001b[0m\u001b[0;34m=\u001b[0m\u001b[0;32mNone\u001b[0m\u001b[0;34m)\u001b[0m\u001b[0;34m:\u001b[0m\u001b[0;34m\u001b[0m\u001b[0;34m\u001b[0m\u001b[0m\n\u001b[0;32m--> 226\u001b[0;31m         \u001b[0m_ClientProjectMixin\u001b[0m\u001b[0;34m.\u001b[0m\u001b[0m__init__\u001b[0m\u001b[0;34m(\u001b[0m\u001b[0mself\u001b[0m\u001b[0;34m,\u001b[0m \u001b[0mproject\u001b[0m\u001b[0;34m=\u001b[0m\u001b[0mproject\u001b[0m\u001b[0;34m)\u001b[0m\u001b[0;34m\u001b[0m\u001b[0;34m\u001b[0m\u001b[0m\n\u001b[0m\u001b[1;32m    227\u001b[0m         \u001b[0mClient\u001b[0m\u001b[0;34m.\u001b[0m\u001b[0m__init__\u001b[0m\u001b[0;34m(\u001b[0m\u001b[0mself\u001b[0m\u001b[0;34m,\u001b[0m \u001b[0mcredentials\u001b[0m\u001b[0;34m=\u001b[0m\u001b[0mcredentials\u001b[0m\u001b[0;34m,\u001b[0m \u001b[0m_http\u001b[0m\u001b[0;34m=\u001b[0m\u001b[0m_http\u001b[0m\u001b[0;34m)\u001b[0m\u001b[0;34m\u001b[0m\u001b[0;34m\u001b[0m\u001b[0m\n",
      "\u001b[0;32m/anaconda3/envs/nlp_course/lib/python3.7/site-packages/google/cloud/client.py\u001b[0m in \u001b[0;36m__init__\u001b[0;34m(self, project)\u001b[0m\n\u001b[1;32m    176\u001b[0m \u001b[0;34m\u001b[0m\u001b[0m\n\u001b[1;32m    177\u001b[0m     \u001b[0;32mdef\u001b[0m \u001b[0m__init__\u001b[0m\u001b[0;34m(\u001b[0m\u001b[0mself\u001b[0m\u001b[0;34m,\u001b[0m \u001b[0mproject\u001b[0m\u001b[0;34m=\u001b[0m\u001b[0;32mNone\u001b[0m\u001b[0;34m)\u001b[0m\u001b[0;34m:\u001b[0m\u001b[0;34m\u001b[0m\u001b[0;34m\u001b[0m\u001b[0m\n\u001b[0;32m--> 178\u001b[0;31m         \u001b[0mproject\u001b[0m \u001b[0;34m=\u001b[0m \u001b[0mself\u001b[0m\u001b[0;34m.\u001b[0m\u001b[0m_determine_default\u001b[0m\u001b[0;34m(\u001b[0m\u001b[0mproject\u001b[0m\u001b[0;34m)\u001b[0m\u001b[0;34m\u001b[0m\u001b[0;34m\u001b[0m\u001b[0m\n\u001b[0m\u001b[1;32m    179\u001b[0m         \u001b[0;32mif\u001b[0m \u001b[0mproject\u001b[0m \u001b[0;32mis\u001b[0m \u001b[0;32mNone\u001b[0m\u001b[0;34m:\u001b[0m\u001b[0;34m\u001b[0m\u001b[0;34m\u001b[0m\u001b[0m\n\u001b[1;32m    180\u001b[0m             raise EnvironmentError(\n",
      "\u001b[0;32m/anaconda3/envs/nlp_course/lib/python3.7/site-packages/google/cloud/datastore/client.py\u001b[0m in \u001b[0;36m_determine_default\u001b[0;34m(project)\u001b[0m\n\u001b[1;32m    252\u001b[0m     \u001b[0;32mdef\u001b[0m \u001b[0m_determine_default\u001b[0m\u001b[0;34m(\u001b[0m\u001b[0mproject\u001b[0m\u001b[0;34m)\u001b[0m\u001b[0;34m:\u001b[0m\u001b[0;34m\u001b[0m\u001b[0;34m\u001b[0m\u001b[0m\n\u001b[1;32m    253\u001b[0m         \u001b[0;34m\"\"\"Helper:  override default project detection.\"\"\"\u001b[0m\u001b[0;34m\u001b[0m\u001b[0;34m\u001b[0m\u001b[0m\n\u001b[0;32m--> 254\u001b[0;31m         \u001b[0;32mreturn\u001b[0m \u001b[0m_determine_default_project\u001b[0m\u001b[0;34m(\u001b[0m\u001b[0mproject\u001b[0m\u001b[0;34m)\u001b[0m\u001b[0;34m\u001b[0m\u001b[0;34m\u001b[0m\u001b[0m\n\u001b[0m\u001b[1;32m    255\u001b[0m \u001b[0;34m\u001b[0m\u001b[0m\n\u001b[1;32m    256\u001b[0m     \u001b[0;34m@\u001b[0m\u001b[0mproperty\u001b[0m\u001b[0;34m\u001b[0m\u001b[0;34m\u001b[0m\u001b[0m\n",
      "\u001b[0;32m/anaconda3/envs/nlp_course/lib/python3.7/site-packages/google/cloud/datastore/client.py\u001b[0m in \u001b[0;36m_determine_default_project\u001b[0;34m(project)\u001b[0m\n\u001b[1;32m     84\u001b[0m \u001b[0;34m\u001b[0m\u001b[0m\n\u001b[1;32m     85\u001b[0m     \u001b[0;32mif\u001b[0m \u001b[0mproject\u001b[0m \u001b[0;32mis\u001b[0m \u001b[0;32mNone\u001b[0m\u001b[0;34m:\u001b[0m\u001b[0;34m\u001b[0m\u001b[0;34m\u001b[0m\u001b[0m\n\u001b[0;32m---> 86\u001b[0;31m         \u001b[0mproject\u001b[0m \u001b[0;34m=\u001b[0m \u001b[0m_base_default_project\u001b[0m\u001b[0;34m(\u001b[0m\u001b[0mproject\u001b[0m\u001b[0;34m=\u001b[0m\u001b[0mproject\u001b[0m\u001b[0;34m)\u001b[0m\u001b[0;34m\u001b[0m\u001b[0;34m\u001b[0m\u001b[0m\n\u001b[0m\u001b[1;32m     87\u001b[0m \u001b[0;34m\u001b[0m\u001b[0m\n\u001b[1;32m     88\u001b[0m     \u001b[0;32mreturn\u001b[0m \u001b[0mproject\u001b[0m\u001b[0;34m\u001b[0m\u001b[0;34m\u001b[0m\u001b[0m\n",
      "\u001b[0;32m/anaconda3/envs/nlp_course/lib/python3.7/site-packages/google/cloud/_helpers.py\u001b[0m in \u001b[0;36m_determine_default_project\u001b[0;34m(project)\u001b[0m\n\u001b[1;32m    184\u001b[0m     \"\"\"\n\u001b[1;32m    185\u001b[0m     \u001b[0;32mif\u001b[0m \u001b[0mproject\u001b[0m \u001b[0;32mis\u001b[0m \u001b[0;32mNone\u001b[0m\u001b[0;34m:\u001b[0m\u001b[0;34m\u001b[0m\u001b[0;34m\u001b[0m\u001b[0m\n\u001b[0;32m--> 186\u001b[0;31m         \u001b[0m_\u001b[0m\u001b[0;34m,\u001b[0m \u001b[0mproject\u001b[0m \u001b[0;34m=\u001b[0m \u001b[0mgoogle\u001b[0m\u001b[0;34m.\u001b[0m\u001b[0mauth\u001b[0m\u001b[0;34m.\u001b[0m\u001b[0mdefault\u001b[0m\u001b[0;34m(\u001b[0m\u001b[0;34m)\u001b[0m\u001b[0;34m\u001b[0m\u001b[0;34m\u001b[0m\u001b[0m\n\u001b[0m\u001b[1;32m    187\u001b[0m     \u001b[0;32mreturn\u001b[0m \u001b[0mproject\u001b[0m\u001b[0;34m\u001b[0m\u001b[0;34m\u001b[0m\u001b[0m\n\u001b[1;32m    188\u001b[0m \u001b[0;34m\u001b[0m\u001b[0m\n",
      "\u001b[0;32m/anaconda3/envs/nlp_course/lib/python3.7/site-packages/google/auth/_default.py\u001b[0m in \u001b[0;36mdefault\u001b[0;34m(scopes, request)\u001b[0m\n\u001b[1;32m    315\u001b[0m             \u001b[0;32mreturn\u001b[0m \u001b[0mcredentials\u001b[0m\u001b[0;34m,\u001b[0m \u001b[0meffective_project_id\u001b[0m\u001b[0;34m\u001b[0m\u001b[0;34m\u001b[0m\u001b[0m\n\u001b[1;32m    316\u001b[0m \u001b[0;34m\u001b[0m\u001b[0m\n\u001b[0;32m--> 317\u001b[0;31m     \u001b[0;32mraise\u001b[0m \u001b[0mexceptions\u001b[0m\u001b[0;34m.\u001b[0m\u001b[0mDefaultCredentialsError\u001b[0m\u001b[0;34m(\u001b[0m\u001b[0m_HELP_MESSAGE\u001b[0m\u001b[0;34m)\u001b[0m\u001b[0;34m\u001b[0m\u001b[0;34m\u001b[0m\u001b[0m\n\u001b[0m",
      "\u001b[0;31mDefaultCredentialsError\u001b[0m: Could not automatically determine credentials. Please set GOOGLE_APPLICATION_CREDENTIALS or explicitly create credentials and re-run the application. For more information, please see https://cloud.google.com/docs/authentication/getting-started"
     ]
    }
   ],
   "source": [
    "datastore_client = datastore.Client()"
   ]
  },
  {
   "cell_type": "code",
   "execution_count": 63,
   "metadata": {
    "collapsed": true
   },
   "outputs": [
    {
     "name": "stdout",
     "output_type": "stream",
     "text": [
      "{'titre 1': 'dispositions generales', '1-1': 'principe fondamental – indemnisation directe de l’assure', '1-2': 'champ d’application', '1-1 principe fondamental – indemnisation directe de l’assure': \"\\n\\nQuels que soient la typologie de l'accident de la circulation, la nature et le montant des dommages, les sociétés adhérentes s'obligent, préalablement à l'exercice de leurs recours, à indemniser elles-mêmes leurs assurés, dans la mesure de leur droit à réparation, déterminé selon les règles du droit commun.\\nL'assureur direct doit indemniser son assuré même si :\\n• la réclamation est présentée pour son compte par un mandataire, une société de protection juridique, un assureur dommages etc,..\\n• son contrat comporte une franchise de responsabilité quel que soit son montant.\\nLes sociétés adhérentes s’interdisent de prendre l’initiative d’indemniser directement une\\nvictime assurée auprès d’une société adhérente.\\nElles s’obligent par ailleurs à transmettre à l’assureur direct toute réclamation présentée par son assuré ou pour son compte par un mandataire, une société de protection juridique, un assureur dommages...\\nUn recours suppose un règlement direct à l’assuré en dehors d’un engagement contractuel (exemple : règlement de la franchise).\\nLa Convention s’applique aux accidents de la circulation, y compris les opérations de chargement et de déchargement des véhicules, survenus, en France (métropolitaine et DOM) et dans la principauté de Monaco, impliquant au moins deux véhicules terrestres soumis à l’obligation d’assurance assurés auprès de sociétés adhérentes.\\nPour les accidents survenus hors « France et Monaco », la Convention s’applique si ne sont impliqués que des véhicules immatriculés dans ces territoires.\\nEn présence d’une fraude, les dispositions de la Convention ne sont pas applicables.\\n\\n\\n\", '1-3': 'instances conventionnelles', '1-2 champ d’application': 'La Convention s’applique aux accidents de la circulation, y compris les opérations de chargement et de déchargement des véhicules, survenus, en France (métropolitaine et DOM) et dans la principauté de Monaco, impliquant au moins deux véhicules terrestres soumis à l’obligation d’assurance assurés auprès de sociétés adhérentes.\\nPour les accidents survenus hors « France et Monaco », la Convention s’applique si ne sont impliqués que des véhicules immatriculés dans ces territoires.\\nEn présence d’une fraude, les dispositions de la Convention ne sont pas applicables.\\n\\n\\n', '1-4': 'secretariat', '1-3 instances conventionnelles': \"La Commission d'Application est l'instance conventionnelle chargée de suivre les conditions d'application de la Convention, d'étudier et de prendre toute mesure de nature à en améliorer le fonctionnement.\\nSont rattachées à la Commission d'Application qui détermine leur règlement intérieur, deux Commissions : la Commission Statistique et la Commission d’Arbitrage.\\nUn Comité d'Ethique est chargé de veiller au respect, par l'ensemble des sociétés, des règles conventionnelles.\\n\\n\\n\", '1-5': 'adhesions et retraits', '1-4 secretariat': 'Le secrétariat de la Convention est assuré par GCA\\n\\n\\n', '1-6': 'definitions conventionnelles', '1-5 adhesions et retraits': \"Les demandes et les retraits d'adhésion doivent être présentés par écrit à GCA.\\nIl est fait obligation à la société qui fait une demande d’adhésion à la Convention IRSA d’adhérer conjointement à l’ensemble des Conventions automobile gérées par GCA dont notamment la Convention IRCA et le Protocole d’accord organismes sociaux/entreprises d’assurances (PAOS).\\nLes sociétés adhérentes prennent l'engagement de respecter scrupuleusement les règles conventionnelles et en particulier de se conformer aux conclusions du Comité d'Ethique chargé de veiller au respect de celles-ci.\\nEn cas de retrait d'adhésion, les dispositions de la présente Convention demeurent applicables aux accidents survenus antérieurement à la date de ce retrait.\\nEn cas de manquement grave aux obligations découlant de la Convention, l'exclusion d'une société adhérente peut être prononcée par la Commission d'Application après avis du Comité d'Ethique et accord des Familles Professionnelles.\\n\\n\\n\", '1-7': 'computation des delais de la convention', '1-6 definitions conventionnelles': 'Les définitions conventionnelles figurent en Annexe 4.\\n\\n\\n', '1-8': 'organisme centralisateur', '1-7 computation des delais de la convention': 'Les délais de la Convention se décomptent à partir de : - l’évènement (date accident) ou,\\n- l’acte visé (date émission du courrier, du titre de paiement...) lequel est réputé avoir atteint son destinataire dès lors que la preuve de son envoi est produite.\\nLorsque les dispositions conventionnelles nécessitent la saisine de GCA, il y a lieu de tenir compte pour le calcul des délais de la date de réception GCA (tampon réception GCA faisant foi).\\n\\n\\n', '1-9': 'date d’entree en vigueur', '1-8 organisme centralisateur': 'Les sociétés adhérentes à la Convention s’engagent à respecter les clauses contractuelles conclues avec le prestataire informatique retenu pour l’hébergement et les échanges IRSA.\\n\\n\\n', 'titre 2': 'regles communes de gestion', 'titre 1 dispositions generales': ['1-1 principe fondamental – indemnisation directe de l’assure', '1-2 champ d’application', '1-3 instances conventionnelles', '1-4 secretariat', '1-5 adhesions et retraits', '1-6 definitions conventionnelles', '1-7 computation des delais de la convention', '1-8 organisme centralisateur', '1-9 date d’entree en vigueur'], '1-9 date d’entree en vigueur': \"Les dispositions de la présente Convention s'appliquent aux accidents survenus à compter du 1er juin 2014.\\n\\n\\n\\n\", '2-1': 'evaluation des dommages au vehicule', '2-2': 'determination de l’assiette du recours', '2-1 evaluation des dommages au vehicule': '\\n\\nL’assureur direct doit faire procéder à l’évaluation des dommages quelle que soit leur importance et quel que soit le nombre de véhicules impliqués.\\n\\n\\n', '2-3': 'prejudices faisant l’objet d’une renonciation a recours partielle ou totale', '2-2 determination de l’assiette du recours': 'L’assiette du recours (avant détermination du droit à recours conventionnel) est constituée par :\\n- Le montant des réparations, vétusté déduite chiffrée par l’expert, si celui-ci est inférieur ou égal à la VRADE,\\n- La VRADE sans déduction de la valeur de sauvetage lorsque le montant des réparations lui est supérieur,\\n- Les accessoires.\\nElle est calculée hors taxes et doit être augmentée de la TVA selon la situation fiscale du lésé et la nature du véhicule.\\n\\n\\n', '2-4': 'modalites d’exercice des recours', '2-3 prejudices faisant l’objet d’une renonciation a recours partielle ou totale': \"Les sociétés adhérentes s'engagent à ne pas exercer entre elles de recours soit en leur nom en tant que subrogées, soit au nom de leurs assurés, au titre des préjudices visés ci-dessous qui font l’objet d'une renonciation à recours partielle ou totale.\\nLes préjudices énumérés ci-après font l’objet d’une renonciation à recours dès lors que leur montant hors taxes cumulé, avant détermination du droit à recours conventionnel, ne dépasse pas le PLAFOND : 6 500 EUROS et SEUIL : 10% DU PLAFOND.\\nLorsque le montant hors taxes cumulé dépasse le PLAFOND : 6 500 EUROS et SEUIL : 10% DU PLAFOND, le recours au coût réel s’effectue pour l’excédent sur la base du droit à recours principal (cas de barème, délai...).\\n\\n\\n\", '2-5': 'dommages aux choses inertes', '2-4 modalites d’exercice des recours': \"L'appréciation du droit à réparation de l’assuré, par son assureur de responsabilité civile, appelé assureur direct, ne peut pas être remise en cause par un autre assureur.\\nLes sociétés adhérentes s'engagent à n'exercer de recours que si : - leur assuré dispose d'un droit à réparation,\\n- elles sont en possession d’un justificatif conforme au 2-1 et antérieur à la présentation du recours.\\nElles ne peuvent exercer entre elles de recours que selon les règles prévues par la présente Convention. Chaque recours est indépendant sous réserve des dispositions prévues par l’accord formel.\\n\\n\\n\", '2-6': 'pertes financieres non consecutives a un dommage materiel', '2-5 dommages aux choses inertes': 'En cas d’accident avec ou sans collision entre deux véhicules ou plus, le règlement du préjudice subi par le propriétaire d’une chose inerte est effectué, sous réserve des dispositions du 6-4, pour le compte de qui il appartiendra par un assureur conventionnellement désigné.\\n\\n\\n', '2-7': 'assureur du tracteur et de la remorque differents', '2-6 pertes financieres non consecutives a un dommage materiel': \"En cas d’accident avec ou sans collision entre deux véhicules ou plus, le règlement des pertes financières non consécutives à un dommage matériel (exemple : préjudice économique des sociétés d’autoroute) est effectué pour le compte de qui il appartiendra par un assureur conventionnellement désigné.\\nLes dispositions ci-après s'appliquent quel que soit le montant du préjudice subi.\\nElles ne s’appliquent pas lorsque le conducteur d’un véhicule assuré auprès d’une société non adhérente ou appartenant à l’Etat, est totalement ou partiellement responsable de l’accident en droit commun.\\nDans cette hypothèse, le règlement du préjudice subi et le(s) recours consécutif(s) à ce règlement, s'effectuent selon les règles du droit commun.\\n\\n\\n\", 'titre 3': 'accidents entre deux vehicules', 'titre 2 regles communes de gestion': ['2-1 evaluation des dommages au vehicule', '2-2 determination de l’assiette du recours', '2-3 prejudices faisant l’objet d’une renonciation a recours partielle ou totale', '2-4 modalites d’exercice des recours', '2-5 dommages aux choses inertes', '2-6 pertes financieres non consecutives a un dommage materiel', '2-7 assureur du tracteur et de la remorque differents'], '2-7 assureur du tracteur et de la remorque differents': 'En cas d’accident avec ou sans collision entre deux véhicules ou plus dont un ensemble routier, les règles ci-après s’appliquent dès lors que les deux éléments de l’attelage sont garantis par des assureurs adhérents différents.\\n\\n\\n', '3-1': 'recours forfaitaire', '3-2': 'recours au cout reel', '3-1 recours forfaitaire': \"\\n\\nLes règles du recours forfaitaire s'appliquent aux accidents même sans collision entre deux véhicules et deux seulement, dès lors que l’assiette du recours hors taxes, déterminée conformément aux 2-1 et 2-2 est inférieure ou égale, avant détermination du droit à recours conventionnel, au FORFAIT : 1 276 EUROS et PLAFOND : 6 500 EUROS.\\n\\n\\n\", 'titre 4': 'accidents en chaine', 'titre 3 accidents entre deux vehicules': ['3-1 recours forfaitaire', '3-2 recours au cout reel'], '3-2 recours au cout reel': \"Les règles du recours au coût réel s'appliquent aux accidents même sans collision entre deux véhicules et deux seulement, dès lors que l’assiette du recours hors taxes, déterminée conformément au 2-2 est supérieure, avant détermination du droit à recours conventionnel, au au FORFAIT : 1 276 EUROS et PLAFOND : 6 500 EUROS.\\n\\n\\n\\n\", '4-1': 'champ d’application', '4-2': 'recours', '4-1 champ d’application': '\\n\\nEst considéré comme « accident en chaîne » tout accident dans lequel plus de deux véhicules circulant dans le même sens et sur la même file au sens de l’Annexe 1, entrent en contact entre eux au sens du cas 10 déterminé à l’aide de tous moyens de preuve recevables en droit commun.\\nDès lors, ces règles ne s’appliquent pas lorsque l’accident a été provoqué par un objet tombant ou déjà tombé d’un véhicule ou par l’implication sans collision d’un véhicule.\\n\\n\\n', 'titre 5': 'carambolages entre trois a sept vehicules', 'titre 4 accidents en chaine': ['4-1 champ d’application', '4-2 recours'], '4-2 recours': \"Le recours de l'assureur direct, exercé auprès de l'assureur du véhicule suiveur est limité à la moitié de l’assiette de recours déterminée conformément au 2-2.\\nPar exception, l’assureur du premier véhicule de la file, dispose d’un recours intégral.\\n\\n\\n\\n\", '5-1': 'champ d’application', '5-2': 'designation de la societe meneur de jeu', '5-1 champ d’application': '\\nEst visé par le présent Titre, tout accident entre 3 à 7 véhicules impliqués selon les dispositions du 1-2, qui ne répond pas à la définition de l’accident en chaîne.\\n\\n\\n', '5-3': 'role de la societe meneur de jeu', '5-2 designation de la societe meneur de jeu': 'Une société « meneur de jeu » est désignée selon les modalités ci-après pour instruire le carambolage.\\n\\n\\n', '5-4': 'contestation du tableau (de repartition ou simplifie) etabli par la societe meneur de jeu', '5-3 role de la societe meneur de jeu': 'La société « meneur de jeu » instruit le carambolage et établit un tableau de répartition de la charge du carambolage selon les modalités ci-après.\\n\\n\\n', '5-5': 'implication droit commun d’un (ou plusieurs) vehicule(s) non identifie(s) ou non assure(s) ou assure(s) aupres d’une (de) societe(s) non adherente(s) ou appartenant a l’etat', '5-4 contestation du tableau (de repartition ou simplifie) etabli par la societe meneur de jeu': 'Le tableau (de répartition ou simplifié) établi par la société « meneur de jeu » peut faire l’objet d’une contestation selon les modalités ci-après.\\n\\n\\n', 'titre 6': 'carambolages de plus de sept vehicules', 'titre 5 carambolages entre trois a sept vehicules': ['5-1 champ d’application', '5-2 designation de la societe meneur de jeu', '5-3 role de la societe meneur de jeu', '5-4 contestation du tableau (de repartition ou simplifie) etabli par la societe meneur de jeu', '5-5 implication droit commun d’un (ou plusieurs) vehicule(s) non identifie(s) ou non assure(s) ou assure(s) aupres d’une (de) societe(s) non adherente(s) ou appartenant a l’etat'], '5-5 implication droit commun d’un (ou plusieurs) vehicule(s) non identifie(s) ou non assure(s) ou assure(s) aupres d’une (de) societe(s) non adherente(s) ou appartenant a l’etat': 'En cas d’implication droit commun d’un (ou plusieurs) véhicule(s) non identifié(s) ou non assuré(s) auprès d’une (de) société(s) non adhérente(s) ou appartenant à l’Etat, les règles ci- après sont applicables.\\n\\n\\n\\n', '6-1': 'champ d’application', '6-2': 'designation et role de la societe meneur de jeu', '6-1 champ d’application': '\\n\\nEst visé par le présent Titre, tout accident de plus de sept véhicules impliqués selon les dispositions du 1-2 qui ne répond pas à la définition de l’« accident en chaîne ».\\n\\n\\n', '6-3': 'information a la societe meneur de jeu', '6-2 designation et role de la societe meneur de jeu': 'Une société « meneur de jeu » est désignée selon les modalités ci-après pour instruire le carambolage.\\n\\n\\n', '6-4': 'implication droit commun d’un (ou plusieurs) vehicule(s) non assure(s) ou assure(s) aupres d’une (de) societe(s) non adherente(s) ou appartenant a l’etat', '6-3 information a la societe meneur de jeu': 'Les assureurs adhérents sont tenus, selon les modalités ci-après, d’informer la société « meneur de jeu » et de lui communiquer à cet effet un certain nombre d’éléments.\\n\\n\\n', '6-5': 'recours', '6-4 implication droit commun d’un (ou plusieurs) vehicule(s) non assure(s) ou assure(s) aupres d’une (de) societe(s) non adherente(s) ou appartenant a l’etat': 'Le règlement des dommages causés à un véhicule non assuré ou assuré auprès d’une société non adhérente ou appartenant à l’Etat dans la limite de leur droit à réparation est géré selon les dispositions ci-après.\\n\\n\\n', 'titre 7': 'reglement des litiges', 'titre 6 carambolages de plus de sept vehicules': ['6-1 champ d’application', '6-2 designation et role de la societe meneur de jeu', '6-3 information a la societe meneur de jeu', '6-4 implication droit commun d’un (ou plusieurs) vehicule(s) non assure(s) ou assure(s) aupres d’une (de) societe(s) non adherente(s) ou appartenant a l’etat', '6-5 recours'], '6-5 recours': 'Seule la part des dommages réglés par l’assureur d’un même véhicule excédant la franchise dont le montant est fixé par la Commission d’Application (FRANCHISE : 80 000 EUROS) peut faire l’objet d’un recours.\\n\\n\\n\\n', '7-1': 'principe de la renonciation aux actions judiciaires', '7-2': 'procedure d’escalade', '7-1 principe de la renonciation aux actions judiciaires': '\\n\\nTous les litiges relatifs à l’application de la Convention sont obligatoirement soumis aux procédures d’escalade, de conciliation et d’arbitrage.\\nLe recours aux procédures judiciaires est interdit sauf exception du 5-5.\\nL’assureur direct s’engage à mettre tout en œuvre pour éviter la judiciarisation du dossier à\\nl’initiative de son assuré ou de son conseil.\\nUn assureur mis en cause par une victime assurée auprès d’une autre société adhérente doit\\nen informer cette société dans le respect des dispositions du 1-1.\\nEn cas d’impossibilité pour l’assureur direct de transiger avec son assuré ou son conseil, il doit informer l’autre assureur du risque de procédure en lui communiquant tous les éléments dont il dispose.\\nLorsque l’assuré engage une action judiciaire ou se constitue partie civile dans une instance pénale, les assureurs adhérents ne doivent en aucun cas invoquer les termes de la Convention pour résister à la demande devant le tribunal.\\n\\n\\n', '7-3': 'reunions de conciliation', '7-2 procedure d’escalade': \"En cas de litige, les sociétés doivent obligatoirement faire application de la procédure d’escalade dont les modalités sont précisées ci-après.\\nLa procédure d'escalade s'impose aux sociétés pour les litiges liés à l'application des dispositions de la présente Convention (à l'exception de celles du Titre 6) et constitue un préalable indispensable à la saisine des Commissions de Conciliation et d’Arbitrage qui doit rester exceptionnelle.\\n\\n\\n\", '7-4': 'arbitrage', '7-3 reunions de conciliation': 'En cas d’échec à l’échelon « Direction », la procédure de Conciliation se poursuit par l’inscription à l’ordre du jour d’une réunion de Conciliation.\\nLa Conciliation fait partie de la procédure d’escalade à l’échelon « Direction ».\\nLa Conciliation est obligatoire avant toute saisine de la Commission d’Arbitrage à l’exception des litiges relevant de l’application du Titre 5 lorsque plus de trois sociétés adhérentes sont concernées et du Titre 6.\\n\\n\\n', '7-5': 'delai de reglement', '7-4 arbitrage': \"Sont obligatoirement soumis à la Commission d’Arbitrage tous les litiges :\\n- qui n'ont pas fait l'objet d'un accord lors d'une réunion de Conciliation : arbitrage après échec de conciliation,\\n- relatifs à l’application des dispositions du Titre 5, lorsque plus de trois sociétés adhérentes sont concernées : arbitrage direct.\\n\\n\", '7-5 delai de reglement': 'Le règlement ou le reversement doit être effectué dans un délai de 30 jours.\\n'}\n"
     ]
    }
   ],
   "source": [
    "data = {}\n",
    "sub_titles = []\n",
    "action_text = ''\n",
    "full_sub_title = ''\n",
    "with open('IRSA-Manual-Succinct-Without-Annex.txt', 'r') as txt:\n",
    "    for line in txt:\n",
    "        if line.startswith('TITRE'):\n",
    "            num = line[6:7]\n",
    "            title = line[8:]\n",
    "            title_num = 'titre ' + num\n",
    "            data[title_num] = title.strip().lower()\n",
    "            full_title = title_num + ' ' + data[title_num]\n",
    "            if len(sub_titles) > 0:\n",
    "                prev_title = data['titre ' + str(int(num)-1)]\n",
    "                full_prev_title = 'titre ' + str(int(num)-1) + ' ' + prev_title\n",
    "                data[full_prev_title] = sub_titles\n",
    "                sub_titles = []\n",
    "            if action_text != '':\n",
    "                data[full_sub_title] = action_text\n",
    "                action_text = ''\n",
    "        elif line.startswith(num):\n",
    "            sub_num = line[:3]\n",
    "            sub_title = line[4:]\n",
    "            data[sub_num] = sub_title.strip().lower()\n",
    "            full_sub_title = sub_num + ' ' + data[sub_num]\n",
    "            sub_titles.append(full_sub_title)\n",
    "            \n",
    "            if action_text != '':\n",
    "                arr = sub_num.split('-')\n",
    "                second_num = int(arr[1]) - 1\n",
    "                if second_num > 0:\n",
    "                    prev_sub_num = arr[0] + '-' + str(second_num)\n",
    "                    prev_sub_title = data[prev_sub_num]\n",
    "                    full_prev_sub_title = prev_sub_num + ' ' + prev_sub_title\n",
    "                    data[full_prev_sub_title] = action_text\n",
    "                    action_text = ''\n",
    "        elif line != '\\r\\n':\n",
    "            action_text += line\n",
    "    data[full_sub_title] = action_text    "
   ]
  },
  {
   "cell_type": "code",
   "execution_count": null,
   "metadata": {},
   "outputs": [],
   "source": [
    "for key in data:    \n",
    "    kind = 'Topic'\n",
    "    topic_key = datastore_client.key(kind, key)\n",
    "\n",
    "    topic = datastore.Entity(key=topic_key)\n",
    "    topic['action_text'] = data[key]\n",
    "\n",
    "    datastore_client.put(topic)\n",
    "    print('Saved {}: {}'.format(topic.key.name, topic['action_text']))"
   ]
  },
  {
   "cell_type": "code",
   "execution_count": 7,
   "metadata": {},
   "outputs": [
    {
     "name": "stdout",
     "output_type": "stream",
     "text": [
      "Done processing IRSA doc.\n"
     ]
    }
   ],
   "source": [
    "print('Done processing IRSA doc.')"
   ]
  },
  {
   "cell_type": "code",
   "execution_count": null,
   "metadata": {},
   "outputs": [],
   "source": []
  }
 ],
 "metadata": {
  "kernelspec": {
   "display_name": "Python 3",
   "language": "python",
   "name": "python3"
  },
  "language_info": {
   "codemirror_mode": {
    "name": "ipython",
    "version": 3
   },
   "file_extension": ".py",
   "mimetype": "text/x-python",
   "name": "python",
   "nbconvert_exporter": "python",
   "pygments_lexer": "ipython3",
   "version": "3.7.4"
  }
 },
 "nbformat": 4,
 "nbformat_minor": 2
}
