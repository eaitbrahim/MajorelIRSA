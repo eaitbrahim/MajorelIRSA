{
 "cells": [
  {
   "cell_type": "code",
   "execution_count": null,
   "metadata": {},
   "outputs": [],
   "source": [
    "!pip install --upgrade pip\n",
    "!yes | pip uninstall dialogflow\n",
    "!pip install dialogflow==0.3.0"
   ]
  },
  {
   "cell_type": "code",
   "execution_count": null,
   "metadata": {},
   "outputs": [],
   "source": [
    "from google.cloud import datastore\n",
    "\n",
    "client = datastore.Client()\n",
    "query = client.query(kind='Topic')\n",
    "results = list(query.fetch())"
   ]
  },
  {
   "cell_type": "code",
   "execution_count": null,
   "metadata": {},
   "outputs": [],
   "source": [
    "import dialogflow\n",
    "\n",
    "entity_types_client = dialogflow.EntityTypesClient()\n",
    "project_id = !(gcloud config get-value project)\n",
    "project_agent_path = entity_types_client.project_agent_path(project_id[0])\n",
    "\n",
    "for element in entity_types_client.list_entity_types(project_agent_path):\n",
    "    if (element.display_name == 'Topic'):\n",
    "        entity_type_path = element.name\n",
    "\n",
    "project_id = !(gcloud config get-value project)\n",
    "entities = []\n",
    "\n",
    "for result in results:\n",
    "    entity = dialogflow.types.EntityType.Entity()\n",
    "    entity.value = result.key.name\n",
    "    entity.synonyms.append(result.key.name)\n",
    "\n",
    "    entities.append(entity)\n",
    "\n",
    "print(entities)\n",
    "\n",
    "response = entity_types_client.batch_create_entities(entity_type_path, entities)\n",
    "\n",
    "print('Entity created: {}'.format(response))"
   ]
  }
 ],
 "metadata": {
  "kernelspec": {
   "display_name": "Python 3",
   "language": "python",
   "name": "python3"
  },
  "language_info": {
   "codemirror_mode": {
    "name": "ipython",
    "version": 3
   },
   "file_extension": ".py",
   "mimetype": "text/x-python",
   "name": "python",
   "nbconvert_exporter": "python",
   "pygments_lexer": "ipython3",
   "version": "3.7.4"
  }
 },
 "nbformat": 4,
 "nbformat_minor": 2
}
