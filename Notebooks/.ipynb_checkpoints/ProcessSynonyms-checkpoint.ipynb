{
 "cells": [
  {
   "cell_type": "code",
   "execution_count": null,
   "metadata": {},
   "outputs": [],
   "source": [
    "!pip uninstall -y google-cloud-datastore"
   ]
  },
  {
   "cell_type": "code",
   "execution_count": null,
   "metadata": {},
   "outputs": [],
   "source": [
    "!pip install google-cloud-datastore"
   ]
  },
  {
   "cell_type": "code",
   "execution_count": null,
   "metadata": {},
   "outputs": [],
   "source": [
    "!pip install inflect"
   ]
  },
  {
   "cell_type": "code",
   "execution_count": null,
   "metadata": {},
   "outputs": [],
   "source": [
    "# Only need to do this once...\n",
    "import nltk\n",
    "nltk.download('stopwords')\n",
    "nltk.download('wordnet')"
   ]
  },
  {
   "cell_type": "code",
   "execution_count": null,
   "metadata": {},
   "outputs": [],
   "source": [
    "from nltk.corpus import stopwords\n",
    "stop = set(stopwords.words('french'))"
   ]
  },
  {
   "cell_type": "code",
   "execution_count": null,
   "metadata": {},
   "outputs": [],
   "source": [
    "from google.cloud import datastore"
   ]
  },
  {
   "cell_type": "code",
   "execution_count": null,
   "metadata": {},
   "outputs": [],
   "source": [
    "datastore_client = datastore.Client()"
   ]
  },
  {
   "cell_type": "code",
   "execution_count": null,
   "metadata": {},
   "outputs": [],
   "source": [
    "client = datastore.Client()\n",
    "query = client.query(kind='Topic')\n",
    "results = list(query.fetch())"
   ]
  },
  {
   "cell_type": "code",
   "execution_count": null,
   "metadata": {},
   "outputs": [],
   "source": [
    "import inflect\n",
    "plurals = inflect.engine()"
   ]
  },
  {
   "cell_type": "code",
   "execution_count": null,
   "metadata": {},
   "outputs": [],
   "source": [
    "from nltk.corpus import wordnet\n",
    "\n",
    "for result in results:\n",
    "    for word in result.key.name.split():\n",
    "        if word in stop:\n",
    "            continue\n",
    "        synonyms = set()\n",
    "        for syn in wordnet.synsets(word):\n",
    "            if \".n.\" in str(syn):\n",
    "                for l in syn.lemmas():\n",
    "                    lemma = l.name()\n",
    "                    if (lemma.isalpha()):\n",
    "                        synonyms.add(lemma)\n",
    "                        synonyms.add(plurals.plural(lemma))\n",
    "\n",
    "            if \".a.\" in str(syn):\n",
    "                synonyms = set()\n",
    "                break\n",
    "\n",
    "        print(result.key.name, word, synonyms)\n",
    "\n",
    "        kind = 'Synonym'\n",
    "        synonym_key = datastore_client.key(kind, result.key.name)\n",
    "\n",
    "        synonym = datastore.Entity(key=synonym_key)\n",
    "        synonym['synonym'] = result.key.name\n",
    "\n",
    "        datastore_client.put(synonym)\n",
    "\n",
    "        synonym_key = datastore_client.key(kind, word)\n",
    "\n",
    "        synonym = datastore.Entity(key=synonym_key)\n",
    "        synonym['synonym'] = result.key.name\n",
    "\n",
    "        datastore_client.put(synonym)\n",
    "\n",
    "        for dictionary_synonym in synonyms:\n",
    "            synonym_key = datastore_client.key(kind, dictionary_synonym)\n",
    "            synonym = datastore.Entity(key=synonym_key)\n",
    "            synonym['synonym'] = result.key.name\n",
    "            datastore_client.put(synonym)\n",
    "\n",
    "        synonym_key = datastore_client.key(kind, plurals.plural(word))\n",
    "\n",
    "        synonym = datastore.Entity(key=synonym_key)\n",
    "        synonym['synonym'] = result.key.name\n",
    "\n",
    "        datastore_client.put(synonym)"
   ]
  }
 ],
 "metadata": {
  "kernelspec": {
   "display_name": "Python 3",
   "language": "python",
   "name": "python3"
  },
  "language_info": {
   "codemirror_mode": {
    "name": "ipython",
    "version": 3
   },
   "file_extension": ".py",
   "mimetype": "text/x-python",
   "name": "python",
   "nbconvert_exporter": "python",
   "pygments_lexer": "ipython3",
   "version": "3.7.4"
  }
 },
 "nbformat": 4,
 "nbformat_minor": 2
}
